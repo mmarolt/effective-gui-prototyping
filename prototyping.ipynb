{
 "cells": [
  {
   "metadata": {
    "ExecuteTime": {
     "end_time": "2025-05-29T20:29:29.215818Z",
     "start_time": "2025-05-29T20:29:25.215876Z"
    }
   },
   "cell_type": "code",
   "source": [
    "from dotenv import load_dotenv\n",
    "from langchain_google_genai import ChatGoogleGenerativeAI #before: langchain.chat_models\n",
    "import pandas as pd\n",
    "from langchain.chains import LLMChain\n",
    "from langfuse.callback import CallbackHandler\n",
    "# from langchain.llms import OpenAI\n",
    "import os\n",
    "from langchain.chains import SequentialChain\n",
    "# from openai import organization\n",
    "\n",
    "dotenv_path = load_dotenv(override=True)\n",
    "\n",
    "google_api_key = os.environ.get(\"GOOGLE_API_KEY\")\n",
    "if not google_api_key:\n",
    "    print(\"ERROR: GOOGLE_API_KEY not found in environment variables. Please set it in your .env file.\")\n",
    "\n",
    "handler = CallbackHandler(os.environ.get(\"LANGFUSE_PUBLIC_KEY\"), os.environ.get(\"LANGFUSE_SECRET_KEY\"))"
   ],
   "outputs": [
    {
     "name": "stderr",
     "output_type": "stream",
     "text": [
      "C:\\Users\\Marija\\IdeaProjects\\effective-gui-prototyping\\.venv\\lib\\site-packages\\tqdm\\auto.py:21: TqdmWarning: IProgress not found. Please update jupyter and ipywidgets. See https://ipywidgets.readthedocs.io/en/stable/user_install.html\n",
      "  from .autonotebook import tqdm as notebook_tqdm\n"
     ]
    }
   ],
   "execution_count": 1
  },
  {
   "cell_type": "code",
   "metadata": {
    "ExecuteTime": {
     "end_time": "2025-05-29T20:29:29.247298Z",
     "start_time": "2025-05-29T20:29:29.229191Z"
    }
   },
   "source": [
    "MODEL = \"gemini-2.0-flash\" # before: gpt-4-1106-preview\n",
    "# ORGANISATION = \"org-uZrowMmGKXM2eaDHBuh0Qfs4\"\n",
    "\n",
    "OUTPUT_FOLDER = \"generated_guis_mm\"\n",
    "DATASET = \"dataset.csv\"\n",
    "\n",
    "df = pd.read_csv(DATASET, sep=\";\")"
   ],
   "outputs": [],
   "execution_count": 2
  },
  {
   "cell_type": "code",
   "metadata": {
    "ExecuteTime": {
     "end_time": "2025-05-29T20:29:29.818308Z",
     "start_time": "2025-05-29T20:29:29.728652Z"
    }
   },
   "source": [
    "from prompts import SUMMARY2REQUIREMENTS_ZS, REQUIREMENTS2IMPLEMENTATION_ZS, IMPLEMETATION2STRUCTURE_ZS, STRUCTURE2CODE_ZS\n",
    "\n",
    "#PD_ZS\n",
    "def pd_zs(summary, temp=0.7):\n",
    "    llm = ChatGoogleGenerativeAI(model=MODEL,temperature=temp)\n",
    "    chain_1 = LLMChain(llm=llm, prompt=SUMMARY2REQUIREMENTS_ZS, output_key=\"requirements\")\n",
    "    chain_2 = LLMChain(llm=llm, prompt=REQUIREMENTS2IMPLEMENTATION_ZS, output_key=\"implementation\")\n",
    "    chain_3 = LLMChain(llm=llm, prompt=IMPLEMETATION2STRUCTURE_ZS, output_key=\"structure\")\n",
    "    chain_4 = LLMChain(llm=llm, prompt=STRUCTURE2CODE_ZS, output_key=\"code\")\n",
    "\n",
    "    seq_chain = SequentialChain(\n",
    "        chains = [chain_1,chain_2,chain_3,chain_4],\n",
    "        input_variables=[\"summary\"])\n",
    "    \n",
    "    return(seq_chain.run(summary, callbacks=[handler]))\n"
   ],
   "outputs": [],
   "execution_count": 3
  },
  {
   "cell_type": "code",
   "metadata": {
    "ExecuteTime": {
     "end_time": "2025-05-29T20:29:29.849433Z",
     "start_time": "2025-05-29T20:29:29.836428Z"
    }
   },
   "source": [
    "from prompts import SUMMARY2REQUIRMENTS_FS, REQUIREMENTS2IMPLEMENTATION_FS, IMPLEMETATION2STRUCTURE_FS, STRUCTURE2CODE_FS\n",
    "\n",
    "#PD_FS\n",
    "def pd_fs(summary, temp=0.7):\n",
    "    llm = ChatGoogleGenerativeAI(model=MODEL,temperature=temp)\n",
    "    chain_1 = LLMChain(llm=llm, prompt=SUMMARY2REQUIRMENTS_FS, output_key=\"requirements\")\n",
    "    chain_2 = LLMChain(llm=llm, prompt=REQUIREMENTS2IMPLEMENTATION_FS, output_key=\"implementation\")\n",
    "    chain_3 = LLMChain(llm=llm, prompt=IMPLEMETATION2STRUCTURE_FS, output_key=\"structure\")\n",
    "    chain_4 = LLMChain(llm=llm, prompt=STRUCTURE2CODE_FS, output_key=\"code\")\n",
    "\n",
    "    seq_chain = SequentialChain(\n",
    "        chains = [chain_1,chain_2,chain_3,chain_4],\n",
    "        input_variables=[\"summary\"])\n",
    "    \n",
    "    return(seq_chain.run(summary, callbacks=[handler]))"
   ],
   "outputs": [],
   "execution_count": 4
  },
  {
   "cell_type": "code",
   "metadata": {
    "ExecuteTime": {
     "end_time": "2025-05-29T20:29:29.880681Z",
     "start_time": "2025-05-29T20:29:29.868948Z"
    }
   },
   "source": [
    "from prompts import SUMMARY2CODE_ZS\n",
    "\n",
    "#Instruction\n",
    "def instruction(summary, temp=0.7):\n",
    "    llm = ChatGoogleGenerativeAI(model=MODEL,temperature=temp)\n",
    "    chain = LLMChain(llm=llm, prompt=SUMMARY2CODE_ZS, callbacks=[handler])\n",
    "\n",
    "    try: \n",
    "        response = chain.run(summary=summary, callbacks=[handler])\n",
    "    except Exception as e:\n",
    "        print(e)\n",
    "    \n",
    "    return(response)"
   ],
   "outputs": [],
   "execution_count": 5
  },
  {
   "cell_type": "code",
   "metadata": {
    "ExecuteTime": {
     "end_time": "2025-05-29T20:29:29.911113Z",
     "start_time": "2025-05-29T20:29:29.899114Z"
    }
   },
   "source": [
    "from prompts import CoT_ZS\n",
    "\n",
    "#CoT_ZS\n",
    "def cot_zs(summary, temp=0.7):\n",
    "    llm = ChatGoogleGenerativeAI(model=MODEL,temperature=temp)\n",
    "    chain = LLMChain(llm=llm, prompt=CoT_ZS, callbacks=[handler])\n",
    "\n",
    "    try: \n",
    "        response = chain.run(summary=summary, callbacks=[handler])\n",
    "    except Exception as e:\n",
    "        print(e)\n",
    "    \n",
    "    return(response)"
   ],
   "outputs": [],
   "execution_count": 6
  },
  {
   "cell_type": "code",
   "metadata": {
    "ExecuteTime": {
     "end_time": "2025-05-29T20:29:29.973375Z",
     "start_time": "2025-05-29T20:29:29.964974Z"
    }
   },
   "source": [
    "from prompts import CoT_FS\n",
    "\n",
    "#CoT_FS\n",
    "def cot_fs(summary, temp=0.7):\n",
    "    llm = ChatGoogleGenerativeAI(model=MODEL,temperature=temp)\n",
    "    chain = LLMChain(llm=llm, prompt=CoT_FS, callbacks=[handler])\n",
    "\n",
    "    try: \n",
    "        response = chain.run(summary=summary, callbacks=[handler])\n",
    "    except Exception as e:\n",
    "        print(e)\n",
    "    \n",
    "    return(response)"
   ],
   "outputs": [],
   "execution_count": 7
  },
  {
   "cell_type": "code",
   "metadata": {
    "ExecuteTime": {
     "end_time": "2025-05-29T20:29:30.019807Z",
     "start_time": "2025-05-29T20:29:30.007988Z"
    }
   },
   "source": [
    "import re\n",
    "\n",
    "def extract_html(code, file, folder):\n",
    "    html_content = re.search(r'<!DOCTYPE html>.*</html>', code, re.DOTALL)\n",
    "    extracted_text = html_content.group()\n",
    "    try:\n",
    "        with open(f\"{folder}/{file}.html\", 'w') as f:\n",
    "            f.write(extracted_text)\n",
    "    except Exception as e:\n",
    "        print(f\"{file} failed\")\n",
    "        print(e)"
   ],
   "outputs": [],
   "execution_count": 8
  },
  {
   "cell_type": "code",
   "metadata": {
    "ExecuteTime": {
     "end_time": "2025-05-29T20:29:30.096915Z",
     "start_time": "2025-05-29T20:29:30.083945Z"
    }
   },
   "source": [
    "def prototyping(summary,folder):\n",
    "   \n",
    "    code = instruction(summary)\n",
    "    extract_html(code,\"instruction\",folder)    \n",
    "    \n",
    "    code = cot_zs(summary)\n",
    "    extract_html(code,\"CoT_zs\",folder)    \n",
    "    \n",
    "    code = cot_fs(summary)\n",
    "    extract_html(code,\"CoT_fs\",folder)     \n",
    "    \n",
    "    code = pd_zs(summary)\n",
    "    extract_html(code,\"pd_zs\",folder)    \n",
    "\n",
    "    code = pd_fs(summary)\n",
    "    extract_html(code,\"pd_fs\",folder)    \n",
    "   \n"
   ],
   "outputs": [],
   "execution_count": 9
  },
  {
   "cell_type": "code",
   "metadata": {
    "ExecuteTime": {
     "end_time": "2025-05-29T20:29:30.112064Z",
     "start_time": "2025-05-29T20:29:30.104014Z"
    }
   },
   "source": [
    "def pipeline():\n",
    "    for index, row in df.iterrows():\n",
    "        os.makedirs(f\"{OUTPUT_FOLDER}/{row['UI Number']}\")\n",
    "        prototyping(row['Summary'],f\"{OUTPUT_FOLDER}/{row['UI Number']}\")\n"
   ],
   "outputs": [],
   "execution_count": 10
  },
  {
   "cell_type": "code",
   "metadata": {
    "ExecuteTime": {
     "end_time": "2025-05-29T20:31:41.936424Z",
     "start_time": "2025-05-29T20:29:35.817605Z"
    }
   },
   "source": [
    "pipeline()"
   ],
   "outputs": [
    {
     "name": "stderr",
     "output_type": "stream",
     "text": [
      "C:\\Users\\Marija\\AppData\\Local\\Temp\\ipykernel_4752\\3960553617.py:6: LangChainDeprecationWarning: The class `LLMChain` was deprecated in LangChain 0.1.17 and will be removed in 1.0. Use :meth:`~RunnableSequence, e.g., `prompt | llm`` instead.\n",
      "  chain = LLMChain(llm=llm, prompt=SUMMARY2CODE_ZS, callbacks=[handler])\n",
      "C:\\Users\\Marija\\AppData\\Local\\Temp\\ipykernel_4752\\3960553617.py:9: LangChainDeprecationWarning: The method `Chain.run` was deprecated in langchain 0.1.0 and will be removed in 1.0. Use :meth:`~invoke` instead.\n",
      "  response = chain.run(summary=summary, callbacks=[handler])\n"
     ]
    },
    {
     "ename": "FileExistsError",
     "evalue": "[WinError 183] Cannot create a file when that file already exists: 'generated_guis/15711'",
     "output_type": "error",
     "traceback": [
      "\u001B[1;31m---------------------------------------------------------------------------\u001B[0m",
      "\u001B[1;31mFileExistsError\u001B[0m                           Traceback (most recent call last)",
      "Cell \u001B[1;32mIn[12], line 1\u001B[0m\n\u001B[1;32m----> 1\u001B[0m \u001B[43mpipeline\u001B[49m\u001B[43m(\u001B[49m\u001B[43m)\u001B[49m\n",
      "Cell \u001B[1;32mIn[10], line 3\u001B[0m, in \u001B[0;36mpipeline\u001B[1;34m()\u001B[0m\n\u001B[0;32m      1\u001B[0m \u001B[38;5;28;01mdef\u001B[39;00m\u001B[38;5;250m \u001B[39m\u001B[38;5;21mpipeline\u001B[39m():\n\u001B[0;32m      2\u001B[0m     \u001B[38;5;28;01mfor\u001B[39;00m index, row \u001B[38;5;129;01min\u001B[39;00m df\u001B[38;5;241m.\u001B[39miterrows():\n\u001B[1;32m----> 3\u001B[0m         \u001B[43mos\u001B[49m\u001B[38;5;241;43m.\u001B[39;49m\u001B[43mmakedirs\u001B[49m\u001B[43m(\u001B[49m\u001B[38;5;124;43mf\u001B[39;49m\u001B[38;5;124;43m\"\u001B[39;49m\u001B[38;5;132;43;01m{\u001B[39;49;00m\u001B[43mOUTPUT_FOLDER\u001B[49m\u001B[38;5;132;43;01m}\u001B[39;49;00m\u001B[38;5;124;43m/\u001B[39;49m\u001B[38;5;132;43;01m{\u001B[39;49;00m\u001B[43mrow\u001B[49m\u001B[43m[\u001B[49m\u001B[38;5;124;43m'\u001B[39;49m\u001B[38;5;124;43mUI Number\u001B[39;49m\u001B[38;5;124;43m'\u001B[39;49m\u001B[43m]\u001B[49m\u001B[38;5;132;43;01m}\u001B[39;49;00m\u001B[38;5;124;43m\"\u001B[39;49m\u001B[43m)\u001B[49m\n\u001B[0;32m      4\u001B[0m         prototyping(row[\u001B[38;5;124m'\u001B[39m\u001B[38;5;124mSummary\u001B[39m\u001B[38;5;124m'\u001B[39m],\u001B[38;5;124mf\u001B[39m\u001B[38;5;124m\"\u001B[39m\u001B[38;5;132;01m{\u001B[39;00mOUTPUT_FOLDER\u001B[38;5;132;01m}\u001B[39;00m\u001B[38;5;124m/\u001B[39m\u001B[38;5;132;01m{\u001B[39;00mrow[\u001B[38;5;124m'\u001B[39m\u001B[38;5;124mUI Number\u001B[39m\u001B[38;5;124m'\u001B[39m]\u001B[38;5;132;01m}\u001B[39;00m\u001B[38;5;124m\"\u001B[39m)\n",
      "File \u001B[1;32m~\\AppData\\Local\\Programs\\Python\\Python39\\lib\\os.py:225\u001B[0m, in \u001B[0;36mmakedirs\u001B[1;34m(name, mode, exist_ok)\u001B[0m\n\u001B[0;32m    223\u001B[0m         \u001B[38;5;28;01mreturn\u001B[39;00m\n\u001B[0;32m    224\u001B[0m \u001B[38;5;28;01mtry\u001B[39;00m:\n\u001B[1;32m--> 225\u001B[0m     \u001B[43mmkdir\u001B[49m\u001B[43m(\u001B[49m\u001B[43mname\u001B[49m\u001B[43m,\u001B[49m\u001B[43m \u001B[49m\u001B[43mmode\u001B[49m\u001B[43m)\u001B[49m\n\u001B[0;32m    226\u001B[0m \u001B[38;5;28;01mexcept\u001B[39;00m \u001B[38;5;167;01mOSError\u001B[39;00m:\n\u001B[0;32m    227\u001B[0m     \u001B[38;5;66;03m# Cannot rely on checking for EEXIST, since the operating system\u001B[39;00m\n\u001B[0;32m    228\u001B[0m     \u001B[38;5;66;03m# could give priority to other errors like EACCES or EROFS\u001B[39;00m\n\u001B[0;32m    229\u001B[0m     \u001B[38;5;28;01mif\u001B[39;00m \u001B[38;5;129;01mnot\u001B[39;00m exist_ok \u001B[38;5;129;01mor\u001B[39;00m \u001B[38;5;129;01mnot\u001B[39;00m path\u001B[38;5;241m.\u001B[39misdir(name):\n",
      "\u001B[1;31mFileExistsError\u001B[0m: [WinError 183] Cannot create a file when that file already exists: 'generated_guis/15711'"
     ]
    }
   ],
   "execution_count": 12
  }
 ],
 "metadata": {
  "kernelspec": {
   "display_name": ".venv",
   "language": "python",
   "name": "python3"
  },
  "language_info": {
   "codemirror_mode": {
    "name": "ipython",
    "version": 3
   },
   "file_extension": ".py",
   "mimetype": "text/x-python",
   "name": "python",
   "nbconvert_exporter": "python",
   "pygments_lexer": "ipython3",
   "version": "3.11.0"
  }
 },
 "nbformat": 4,
 "nbformat_minor": 2
}
