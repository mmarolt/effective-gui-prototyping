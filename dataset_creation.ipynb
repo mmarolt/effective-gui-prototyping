{
 "cells": [
  {
   "cell_type": "code",
   "metadata": {
    "ExecuteTime": {
     "end_time": "2025-05-29T19:23:56.599641Z",
     "start_time": "2025-05-29T19:23:55.800390Z"
    }
   },
   "source": [
    "from dotenv import load_dotenv\n",
    "import pandas as pd\n",
    "import os\n",
    "import base64\n",
    "import requests\n",
    "from pathlib import Path\n",
    "\n",
    "IMAGE_INPUT_FOLDER = \"Rico_guis/\""
   ],
   "outputs": [],
   "execution_count": 1
  },
  {
   "cell_type": "code",
   "metadata": {
    "ExecuteTime": {
     "end_time": "2025-05-29T19:23:56.631984Z",
     "start_time": "2025-05-29T19:23:56.616353Z"
    }
   },
   "source": [
    "PROMPT = \"\"\"\n",
    "Q: \n",
    "Given a screenshot of a mobile page. Provide a short description of the pages intent. your description has to striclty follow this format:\n",
    "\"A page from {{What type of App the page is from}} presenting {{What is the main intent of the app?}}\"\n",
    "A:\n",
    "A page from a language Learning application, presenting a sentence translation task for the user.\n",
    "\n",
    "Q: \n",
    "Given a screenshot of a mobile page. Provide a short description of the pages intent. your description has to striclty follow this format:\n",
    "\"A page from a {{What type of App the page is from}} presenting {{What is the main intent of the app?}}\"\n",
    "A:\n",
    "A page from an e-commerce app, presenting a List of armchairs to buy.\n",
    "\n",
    "Q: \n",
    "Given a screenshot of a mobile page. Provide a short description of the pages intent. your description has to striclty follow this format:\n",
    "\"A page from a {{What type of App the page is from}} presenting {{What is the main intent of the app?}}\"\n",
    "\n",
    "A:\n",
    "\"\"\""
   ],
   "outputs": [],
   "execution_count": 2
  },
  {
   "cell_type": "code",
   "metadata": {
    "ExecuteTime": {
     "end_time": "2025-05-29T19:23:56.983421Z",
     "start_time": "2025-05-29T19:23:56.967796Z"
    }
   },
   "source": [
    "def encode_image(image_path):\n",
    "    with open(image_path,\"rb\") as image_file:\n",
    "        return base64.b64encode(image_file.read()).decode('utf-8')    \n",
    "   "
   ],
   "outputs": [],
   "execution_count": 3
  },
  {
   "cell_type": "code",
   "metadata": {
    "ExecuteTime": {
     "end_time": "2025-05-29T19:23:57.020122Z",
     "start_time": "2025-05-29T19:23:56.999044Z"
    }
   },
   "source": [
    "def describe_image(image_path):\n",
    "    api_key = os.getenv(\"OPENAI_API_KEY\")\n",
    "    base64_image = encode_image(image_path)\n",
    "\n",
    "    headers = {\n",
    "        \"Content-Type\": \"application/json\",\n",
    "        \"Authorization\": f\"Bearer {api_key}\"\n",
    "    }\n",
    "\n",
    "    payload = {\n",
    "        \"model\": \"gpt-4.1-mini\", # before: gpt-4-vision-preview\n",
    "        \"messages\": [\n",
    "        {\n",
    "            \"role\": \"user\",\n",
    "            \"content\": [\n",
    "                {\n",
    "                    \"type\": \"text\",\n",
    "                    \"text\": \n",
    "                    f\"{PROMPT}\"\n",
    "                }\n",
    "            ]\n",
    "        },\n",
    "        {\n",
    "            \"role\": \"user\",\n",
    "            \"content\": [\n",
    "            {\n",
    "                \"type\": \"image_url\",\n",
    "                \"image_url\": {\n",
    "                \"url\": f\"data:image/jpeg;base64,{base64_image}\"\n",
    "                }\n",
    "            }\n",
    "            ]\n",
    "        }\n",
    "        ],\n",
    "        \"max_tokens\": 300\n",
    "    }\n",
    "    response = requests.post(\"https://api.openai.com/v1/chat/completions\", headers=headers, json=payload)\n",
    "    return response"
   ],
   "outputs": [],
   "execution_count": 4
  },
  {
   "cell_type": "code",
   "metadata": {
    "ExecuteTime": {
     "end_time": "2025-05-29T19:27:23.445262Z",
     "start_time": "2025-05-29T19:27:23.430047Z"
    }
   },
   "source": [
    "def pipeline():\n",
    "    directory_path = Path(IMAGE_INPUT_FOLDER)\n",
    "    data = []\n",
    "    for item in directory_path.iterdir():\n",
    "        response = describe_image(item)\n",
    "        print(f\"Status Code: {response.status_code}\")\n",
    "        print(f\"Raw Response Text: {response.text}\")\n",
    "        summary= response.json()[\"choices\"][0][\"message\"][\"content\"]\n",
    "        new_data = {\"UI_Number\": item.stem, \"Summary\": summary}\n",
    "        data.append(new_data)\n",
    "    return pd.DataFrame(data)"
   ],
   "outputs": [],
   "execution_count": 7
  },
  {
   "cell_type": "code",
   "metadata": {
    "ExecuteTime": {
     "end_time": "2025-05-29T19:27:25.963119Z",
     "start_time": "2025-05-29T19:27:25.272314Z"
    }
   },
   "source": [
    "df = pipeline()\n",
    "df"
   ],
   "outputs": [
    {
     "name": "stdout",
     "output_type": "stream",
     "text": [
      "Status Code: 401\n",
      "Raw Response Text: {\n",
      "    \"error\": {\n",
      "        \"message\": \"Incorrect API key provided: None. You can find your API key at https://platform.openai.com/account/api-keys.\",\n",
      "        \"type\": \"invalid_request_error\",\n",
      "        \"param\": null,\n",
      "        \"code\": \"invalid_api_key\"\n",
      "    }\n",
      "}\n",
      "\n"
     ]
    },
    {
     "ename": "KeyError",
     "evalue": "'choices'",
     "output_type": "error",
     "traceback": [
      "\u001B[1;31m---------------------------------------------------------------------------\u001B[0m",
      "\u001B[1;31mKeyError\u001B[0m                                  Traceback (most recent call last)",
      "Cell \u001B[1;32mIn[8], line 1\u001B[0m\n\u001B[1;32m----> 1\u001B[0m df \u001B[38;5;241m=\u001B[39m \u001B[43mpipeline\u001B[49m\u001B[43m(\u001B[49m\u001B[43m)\u001B[49m\n\u001B[0;32m      2\u001B[0m df\n",
      "Cell \u001B[1;32mIn[7], line 8\u001B[0m, in \u001B[0;36mpipeline\u001B[1;34m()\u001B[0m\n\u001B[0;32m      6\u001B[0m \u001B[38;5;28mprint\u001B[39m(\u001B[38;5;124mf\u001B[39m\u001B[38;5;124m\"\u001B[39m\u001B[38;5;124mStatus Code: \u001B[39m\u001B[38;5;132;01m{\u001B[39;00mresponse\u001B[38;5;241m.\u001B[39mstatus_code\u001B[38;5;132;01m}\u001B[39;00m\u001B[38;5;124m\"\u001B[39m)\n\u001B[0;32m      7\u001B[0m \u001B[38;5;28mprint\u001B[39m(\u001B[38;5;124mf\u001B[39m\u001B[38;5;124m\"\u001B[39m\u001B[38;5;124mRaw Response Text: \u001B[39m\u001B[38;5;132;01m{\u001B[39;00mresponse\u001B[38;5;241m.\u001B[39mtext\u001B[38;5;132;01m}\u001B[39;00m\u001B[38;5;124m\"\u001B[39m)\n\u001B[1;32m----> 8\u001B[0m summary\u001B[38;5;241m=\u001B[39m \u001B[43mresponse\u001B[49m\u001B[38;5;241;43m.\u001B[39;49m\u001B[43mjson\u001B[49m\u001B[43m(\u001B[49m\u001B[43m)\u001B[49m\u001B[43m[\u001B[49m\u001B[38;5;124;43m\"\u001B[39;49m\u001B[38;5;124;43mchoices\u001B[39;49m\u001B[38;5;124;43m\"\u001B[39;49m\u001B[43m]\u001B[49m[\u001B[38;5;241m0\u001B[39m][\u001B[38;5;124m\"\u001B[39m\u001B[38;5;124mmessage\u001B[39m\u001B[38;5;124m\"\u001B[39m][\u001B[38;5;124m\"\u001B[39m\u001B[38;5;124mcontent\u001B[39m\u001B[38;5;124m\"\u001B[39m]\n\u001B[0;32m      9\u001B[0m new_data \u001B[38;5;241m=\u001B[39m {\u001B[38;5;124m\"\u001B[39m\u001B[38;5;124mUI_Number\u001B[39m\u001B[38;5;124m\"\u001B[39m: item\u001B[38;5;241m.\u001B[39mstem, \u001B[38;5;124m\"\u001B[39m\u001B[38;5;124mSummary\u001B[39m\u001B[38;5;124m\"\u001B[39m: summary}\n\u001B[0;32m     10\u001B[0m data\u001B[38;5;241m.\u001B[39mappend(new_data)\n",
      "\u001B[1;31mKeyError\u001B[0m: 'choices'"
     ]
    }
   ],
   "execution_count": 8
  }
 ],
 "metadata": {
  "kernelspec": {
   "display_name": ".venv",
   "language": "python",
   "name": "python3"
  },
  "language_info": {
   "codemirror_mode": {
    "name": "ipython",
    "version": 3
   },
   "file_extension": ".py",
   "mimetype": "text/x-python",
   "name": "python",
   "nbconvert_exporter": "python",
   "pygments_lexer": "ipython3",
   "version": "3.11.0"
  }
 },
 "nbformat": 4,
 "nbformat_minor": 2
}
